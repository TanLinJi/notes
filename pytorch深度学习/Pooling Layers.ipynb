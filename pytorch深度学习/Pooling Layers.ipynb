{
 "cells": [
  {
   "cell_type": "markdown",
   "id": "f9232b29",
   "metadata": {},
   "source": [
    "最大值池化，也叫下采样"
   ]
  },
  {
   "cell_type": "markdown",
   "id": "a622a588",
   "metadata": {},
   "source": [
    "nn.MaxPool2d"
   ]
  },
  {
   "cell_type": "markdown",
   "id": "9a25c8c9",
   "metadata": {},
   "source": [
    "MaxUnpool上采样"
   ]
  },
  {
   "cell_type": "markdown",
   "id": "7682e14c",
   "metadata": {},
   "source": [
    "1.最大值池化\n",
    "最大值池化的stride的默认值不再是1，而是kernel_size，也就是池化核的大小。\n",
    "    eg. 池化核是3*3，那么stride=3"
   ]
  },
  {
   "cell_type": "code",
   "execution_count": 8,
   "id": "15ecb4d7",
   "metadata": {},
   "outputs": [],
   "source": [
    "import torch \n",
    "from torch import nn\n",
    "from torch.nn import MaxPool2d\n",
    "input = [\n",
    "    [1,2,0,3,1],\n",
    "    [0,1,2,3,1],\n",
    "    [1,2,1,0,0],\n",
    "    [5,2,3,1,1],\n",
    "    [2,1,0,1,1]\n",
    "]\n",
    "input = torch.tensor(input, dtype=torch.float32) # dtype=torch.float32作用是把input的数都变成浮点数\n",
    "input = torch.reshape(input, (-1, 1, 5, 5))\n",
    "\n",
    "class TuDui(nn.Module):\n",
    "    def __init__(self):\n",
    "        super(TuDui,self).__init__()\n",
    "        self.maxpool1 = MaxPool2d(kernel_size = 3, ceil_mode = False) # ceil_mode = True\n",
    "\n",
    "    def forward(self, input):\n",
    "        output = self.maxpool1(input)\n",
    "        return output"
   ]
  },
  {
   "cell_type": "code",
   "execution_count": 9,
   "id": "aa498548",
   "metadata": {},
   "outputs": [
    {
     "name": "stdout",
     "output_type": "stream",
     "text": [
      "tensor([[[[2.]]]])\n"
     ]
    }
   ],
   "source": [
    "tudui = TuDui()\n",
    "output = tudui(input)\n",
    "\n",
    "print(output)"
   ]
  },
  {
   "cell_type": "markdown",
   "id": "23986467",
   "metadata": {},
   "source": [
    "最大池化的目的：\n",
    "    保留原始数据的特征，并减少一定的数据量\n",
    "    eg.视频质量：1080p->720p"
   ]
  },
  {
   "cell_type": "markdown",
   "id": "cf1db925",
   "metadata": {},
   "source": [
    "## 最大池化例2"
   ]
  },
  {
   "cell_type": "code",
   "execution_count": 13,
   "id": "662cac25",
   "metadata": {},
   "outputs": [
    {
     "name": "stdout",
     "output_type": "stream",
     "text": [
      "Files already downloaded and verified\n"
     ]
    }
   ],
   "source": [
    "from networkx import triangles\n",
    "import torch \n",
    "from torch import nn\n",
    "from torch.nn import MaxPool2d\n",
    "from torch.utils.data import DataLoader\n",
    "import torchvision\n",
    "from torch.utils.tensorboard import SummaryWriter\n",
    "\n",
    "dataset = torchvision.datasets.CIFAR10(\"/root/autodl-tmp/pytorch_DeepLearning/dataset/CIFAR10\",\n",
    "                                       train=False, \n",
    "                                       download=True, \n",
    "                                       transform=torchvision.transforms.ToTensor())\n",
    "dataloader = DataLoader(dataset, batch_size=64)\n",
    "\n",
    "class TuDui(nn.Module):\n",
    "    def __init__(self):\n",
    "        super(TuDui,self).__init__()\n",
    "        self.maxpool1 = MaxPool2d(kernel_size = 3, ceil_mode = False) # ceil_mode = True\n",
    "\n",
    "    def forward(self, input):\n",
    "        output = self.maxpool1(input)\n",
    "        return output\n",
    "    \n",
    "tudui = TuDui()\n",
    "\n",
    "writer = SummaryWriter(\"logs/max_pooling\")\n",
    "\n",
    "step = 0\n",
    "for data in dataloader:\n",
    "    img, target = data\n",
    "    \n",
    "    writer.add_images(\"input\", img, step)\n",
    "    output = tudui(img)\n",
    "    writer.add_images(\"output\", output, step)\n",
    "    step = step + 1\n",
    "\n",
    "writer.close()\n"
   ]
  }
 ],
 "metadata": {
  "kernelspec": {
   "display_name": "DL",
   "language": "python",
   "name": "python3"
  },
  "language_info": {
   "codemirror_mode": {
    "name": "ipython",
    "version": 3
   },
   "file_extension": ".py",
   "mimetype": "text/x-python",
   "name": "python",
   "nbconvert_exporter": "python",
   "pygments_lexer": "ipython3",
   "version": "3.9.23"
  }
 },
 "nbformat": 4,
 "nbformat_minor": 5
}
