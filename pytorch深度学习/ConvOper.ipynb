{
 "cells": [
  {
   "cell_type": "markdown",
   "id": "b7122c4d",
   "metadata": {},
   "source": [
    "> https://docs.pytorch.org/docs/stable/generated/torch.nn.Conv2d.html#torch.nn.Conv2d"
   ]
  },
  {
   "attachments": {
    "image.png": {
     "image/png": "[encoded data removed]"
    }
   },
   "cell_type": "markdown",
   "id": "7394e0b7",
   "metadata": {},
   "source": [
    "![image.png](attachment:image.png)"
   ]
  },
  {
   "cell_type": "markdown",
   "id": "0e68e515",
   "metadata": {
    "vscode": {
     "languageId": "plaintext"
    }
   },
   "source": [
    "nn.conv2d"
   ]
  },
  {
   "cell_type": "code",
   "execution_count": 2,
   "id": "c5e13d66",
   "metadata": {},
   "outputs": [
    {
     "name": "stdout",
     "output_type": "stream",
     "text": [
      "torch.Size([5, 5])\n",
      "torch.Size([3, 3])\n"
     ]
    }
   ],
   "source": [
    "import torch\n",
    "\n",
    "input = torch.tensor(\n",
    "    [[1,2,0,3,1],\n",
    "    [0,1,2,3,1],\n",
    "    [1,2,1,0,0],\n",
    "    [5,2,3,1,1],\n",
    "    [2,1,0,1,1]])\n",
    "kernel = torch.tensor([\n",
    "    [1,2,1],\n",
    "    [0,1,0],\n",
    "    [2,1,0]])\n",
    "\n",
    "\n",
    "print(input.shape)\n",
    "print(kernel.shape)"
   ]
  },
  {
   "cell_type": "code",
   "execution_count": 4,
   "id": "e52e056d",
   "metadata": {},
   "outputs": [
    {
     "name": "stdout",
     "output_type": "stream",
     "text": [
      "torch.Size([1, 1, 5, 5])\n",
      "torch.Size([1, 1, 3, 3])\n"
     ]
    }
   ],
   "source": [
    "input = torch.reshape(input, (1,1,5,5))\n",
    "kernel = torch.reshape(kernel, (1,1,3,3))\n",
    "\n",
    "print(input.shape)\n",
    "print(kernel.shape)"
   ]
  },
  {
   "cell_type": "markdown",
   "id": "54f69bd5",
   "metadata": {},
   "source": [
    "1. stride(步进)"
   ]
  },
  {
   "cell_type": "code",
   "execution_count": null,
   "id": "2fbff2da",
   "metadata": {},
   "outputs": [
    {
     "name": "stdout",
     "output_type": "stream",
     "text": [
      "tensor([[[[10, 12, 12],\n",
      "          [18, 16, 16],\n",
      "          [13,  9,  3]]]])\n"
     ]
    }
   ],
   "source": [
    "import torch.nn.functional as F\n",
    "\n",
    "output1 = F.conv2d(input, kernel, stride=1)\n",
    "print(output1)"
   ]
  },
  {
   "cell_type": "code",
   "execution_count": 6,
   "id": "765b9be4",
   "metadata": {},
   "outputs": [
    {
     "name": "stdout",
     "output_type": "stream",
     "text": [
      "tensor([[[[10, 12],\n",
      "          [13,  3]]]])\n"
     ]
    }
   ],
   "source": [
    "output2 = F.conv2d(input, kernel, stride=2)\n",
    "print(output2)"
   ]
  },
  {
   "cell_type": "markdown",
   "id": "3c3959f1",
   "metadata": {},
   "source": [
    "2. padding"
   ]
  },
  {
   "cell_type": "code",
   "execution_count": 8,
   "id": "191a1616",
   "metadata": {},
   "outputs": [
    {
     "name": "stdout",
     "output_type": "stream",
     "text": [
      "tensor([[[[ 1,  3,  4, 10,  8],\n",
      "          [ 5, 10, 12, 12,  6],\n",
      "          [ 7, 18, 16, 16,  8],\n",
      "          [11, 13,  9,  3,  4],\n",
      "          [14, 13,  9,  7,  4]]]])\n"
     ]
    }
   ],
   "source": [
    "output3 = F.conv2d(input, kernel, stride=1, padding=1)\n",
    "print(output3)"
   ]
  },
  {
   "cell_type": "markdown",
   "id": "5f572a24",
   "metadata": {},
   "source": [
    "padding和stride的作用参见：\n",
    "https://github.com/vdumoulin/conv_arithmetic/blob/master/README.md"
   ]
  },
  {
   "cell_type": "markdown",
   "id": "2036601e",
   "metadata": {},
   "source": [
    "## 卷积层\n",
    "\n",
    "> class torch.nn.Conv2d(in_channels, out_channels, kernel_size, stride=1, padding=0, dilation=1, groups=1, bias=True, padding_mode='zeros', device=None, dtype=None)[source]\n"
   ]
  },
  {
   "cell_type": "code",
   "execution_count": null,
   "id": "51d484e4",
   "metadata": {},
   "outputs": [
    {
     "name": "stdout",
     "output_type": "stream",
     "text": [
      "Files already downloaded and verified\n",
      "myClass(\n",
      "  (conv1): Conv2d(3, 6, kernel_size=(3, 3), stride=(1, 1))\n",
      ")\n"
     ]
    }
   ],
   "source": [
    "import torch\n",
    "import torchvision\n",
    "from torch.utils.data import DataLoader\n",
    "import torch.nn as nn\n",
    "from torch.nn import Conv2d\n",
    "\n",
    "dataset = torchvision.datasets.CIFAR10(\n",
    "    '/root/autodl-tmp/pytorch_DeepLearning/dataset/CIFAR10',\n",
    "    train=True,\n",
    "    transform=torchvision.transforms.ToTensor(),\n",
    "    download=True\n",
    "    )\n",
    "\n",
    "dataloader = DataLoader(dataset, batch_size=64)\n",
    "\n",
    "class myClass(nn.Module):\n",
    "    def __init__(self):\n",
    "        super(myClass,self).__init__()\n",
    "        self.conv1 = Conv2d(in_channels=3, out_channels=6, kernel_size=3, stride=1, padding=0)\n",
    "\n",
    "    def forward(self,x):\n",
    "        x = self.conv1(x)\n",
    "        return x\n",
    "    \n",
    "tudui = myClass()\n",
    "print(tudui)"
   ]
  },
  {
   "cell_type": "code",
   "execution_count": null,
   "id": "7a86f9bd",
   "metadata": {},
   "outputs": [],
   "source": [
    "from torch.utils.tensorboard import SummaryWriter\n",
    "\n",
    "writer = SummaryWriter(\"logs\")\n",
    "step = 0\n",
    "for data in dataloader:\n",
    "    imgs, targets = data        # img torch.Size([64, 3, 32, 32])\n",
    "    output = tudui(imgs)        # output torch.Size([64, 6, 30, 30])\n",
    "    writer.add_images(\"input\", imgs, step)    \n",
    "\n",
    "    output = torch.reshape(output,(-1,3,30,30)) # 必须是3个channel才可以显示，所以需要reshape一下\n",
    "    writer.add_images(\"output\", output, step)  # output torch.Size([64, 6, 30, 30])\n",
    "    step = step + 1\n",
    "    # print(imgs.shape, output.shape)\n",
    "\n",
    "\n",
    "writer.close()"
   ]
  }
 ],
 "metadata": {
  "kernelspec": {
   "display_name": "DL",
   "language": "python",
   "name": "python3"
  },
  "language_info": {
   "codemirror_mode": {
    "name": "ipython",
    "version": 3
   },
   "file_extension": ".py",
   "mimetype": "text/x-python",
   "name": "python",
   "nbconvert_exporter": "python",
   "pygments_lexer": "ipython3",
   "version": "3.9.23"
  }
 },
 "nbformat": 4,
 "nbformat_minor": 5
}
