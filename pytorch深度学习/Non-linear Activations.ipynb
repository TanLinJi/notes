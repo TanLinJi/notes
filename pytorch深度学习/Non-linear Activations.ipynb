{
 "cells": [
  {
   "cell_type": "markdown",
   "id": "37d53452",
   "metadata": {},
   "source": [
    "# 非线性激活"
   ]
  },
  {
   "cell_type": "markdown",
   "id": "ff29769c",
   "metadata": {},
   "source": [
    "## ReLU\n",
    "\n",
    "class torch.nn.ReLU(inplace=False)\n",
    "Applies the rectified linear unit function element-wise.\n",
    "\n",
    "Parameters\n",
    "inplace (bool) – can optionally do the operation in-place. Default: False\n",
    "\n",
    "input = -1\n",
    "output = ReLu(input, inplace=True) # input == ouput == 0\n",
    "\n",
    "input = -1\n",
    "output = ReLu(input, inplace=False) # input = -1 ,ouput = 0\n",
    "\n",
    "inplace的意思就是ReLu后是否将结果替换掉原来的输入\n",
    "\n",
    "\n",
    "\n",
    "![alt text](./jupyter_images/image1.png)"
   ]
  },
  {
   "cell_type": "code",
   "execution_count": null,
   "id": "4048fab0",
   "metadata": {},
   "outputs": [
    {
     "name": "stdout",
     "output_type": "stream",
     "text": [
      "torch.Size([1, 1, 2, 2])\n"
     ]
    }
   ],
   "source": [
    "import torch\n",
    "from torch import nn\n",
    "input = torch.tensor([\n",
    "    [1, -0.5],\n",
    "    [-1, 3]])\n",
    "input = torch.reshape(input, (-1,1,2,2,))\n",
    "\n",
    "print(input.shape)"
   ]
  },
  {
   "cell_type": "code",
   "execution_count": 5,
   "id": "9329b916",
   "metadata": {},
   "outputs": [
    {
     "name": "stdout",
     "output_type": "stream",
     "text": [
      "tensor([[[[1., 0.],\n",
      "          [0., 3.]]]])\n"
     ]
    }
   ],
   "source": [
    "class TuDui(nn.Module):\n",
    "    def __init__(self):\n",
    "        super(TuDui,self).__init__()\n",
    "        self.relu1 = nn.ReLU(inplace=False) # 一般情况选择inplace=False,这个也是默认的，为了保留原始的数据\n",
    "\n",
    "    def forward(self, input):\n",
    "        output = self.relu1(input)\n",
    "        return output\n",
    "    \n",
    "tudui = TuDui()\n",
    "output = tudui(input)\n",
    "print(output)\n",
    "        "
   ]
  },
  {
   "cell_type": "markdown",
   "id": "12eb02a7",
   "metadata": {},
   "source": [
    "## Sigmoid"
   ]
  },
  {
   "cell_type": "markdown",
   "id": "0b8fc90c",
   "metadata": {},
   "source": []
  },
  {
   "cell_type": "code",
   "execution_count": null,
   "id": "6cc916c6",
   "metadata": {},
   "outputs": [],
   "source": []
  },
  {
   "cell_type": "code",
   "execution_count": null,
   "id": "19720582",
   "metadata": {},
   "outputs": [
    {
     "name": "stderr",
     "output_type": "stream",
     "text": [
      "3.1%"
     ]
    }
   ],
   "source": [
    "import torchvision\n",
    "from torch.utils.data import DataLoader\n",
    "from torch.utils.tensorboard import SummaryWriter\n",
    "\n",
    "# 神经网络\n",
    "class TuDui(nn.Module):\n",
    "    def __init__(self):\n",
    "        super(TuDui,self).__init__()\n",
    "        self.sigmoid = nn.Sigmoid() \n",
    "    def forward(self, input):\n",
    "        output = self.sigmoid(input)\n",
    "        return output\n",
    "\n",
    "# 准备数据集\n",
    "dataset = torchvision.datasets.CIFAR10(\"./datasets\", train=False, download=True,\n",
    "                                       transform=torchvision.transforms.ToTensor())\n",
    "dataloader = DataLoader(dataset, batch_size=64)\n",
    "\n",
    "# 将数据投喂到神经网络中\n",
    "tudui = TuDui()\n",
    "writer = SummaryWriter(\"./logs_sigmoid\")\n",
    "step = 1\n",
    "for data in dataloader:\n",
    "    img, target = data\n",
    "    writer.add_images(\"input\", img,  global_step=step)\n",
    "\n",
    "    img_ouput = tudui(img)\n",
    "    writer.add_images(\"ouput\", img_ouput, global_step=step)\n",
    "\n",
    "    step = step + 1\n",
    "\n",
    "writer.close()\n"
   ]
  }
 ],
 "metadata": {
  "kernelspec": {
   "display_name": "dl",
   "language": "python",
   "name": "python3"
  },
  "language_info": {
   "codemirror_mode": {
    "name": "ipython",
    "version": 3
   },
   "file_extension": ".py",
   "mimetype": "text/x-python",
   "name": "python",
   "nbconvert_exporter": "python",
   "pygments_lexer": "ipython3",
   "version": "3.11.14"
  }
 },
 "nbformat": 4,
 "nbformat_minor": 5
}
