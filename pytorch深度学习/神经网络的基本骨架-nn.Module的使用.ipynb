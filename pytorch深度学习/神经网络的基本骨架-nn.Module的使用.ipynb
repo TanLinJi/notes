{
 "cells": [
  {
   "cell_type": "markdown",
   "id": "a488fbb2",
   "metadata": {},
   "source": [
    "troch.nn:\n",
    "> https://docs.pytorch.org/docs/stable/nn.html"
   ]
  },
  {
   "cell_type": "code",
   "execution_count": null,
   "id": "3f76148a",
   "metadata": {},
   "outputs": [],
   "source": [
    "# 1. 定义一个自己的神经网络\n",
    "from torch import nn\n",
    "\n",
    "class my_Class(nn.Module):\n",
    "    def __init__(self):\n",
    "        super().__init__()\n",
    "\n",
    "    def forward(self, input):\n",
    "        output = input + 1\n",
    "        return output"
   ]
  },
  {
   "cell_type": "code",
   "execution_count": null,
   "id": "572e3efe",
   "metadata": {},
   "outputs": [
    {
     "name": "stdout",
     "output_type": "stream",
     "text": [
      "tensor(2.)\n"
     ]
    }
   ],
   "source": [
    "# 2. 创建神经网络实例\n",
    "import torch\n",
    "myClass = my_Class()\n",
    "x = torch.tensor(1.0)\n",
    "output = myClass(x)  # 把 x 输入到myClass这个神经网络中(到神经网络中经过forward然后进行输出)\n",
    "print(output)"
   ]
  }
 ],
 "metadata": {
  "kernelspec": {
   "display_name": "DL",
   "language": "python",
   "name": "python3"
  },
  "language_info": {
   "codemirror_mode": {
    "name": "ipython",
    "version": 3
   },
   "file_extension": ".py",
   "mimetype": "text/x-python",
   "name": "python",
   "nbconvert_exporter": "python",
   "pygments_lexer": "ipython3",
   "version": "3.9.23"
  }
 },
 "nbformat": 4,
 "nbformat_minor": 5
}
