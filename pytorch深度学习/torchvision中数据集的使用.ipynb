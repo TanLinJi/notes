{
 "cells": [
  {
   "cell_type": "markdown",
   "id": "d371b103",
   "metadata": {},
   "source": [
    "数据集：https://docs.pytorch.org/vision/stable/datasets.html"
   ]
  },
  {
   "cell_type": "markdown",
   "id": "8dbf5560",
   "metadata": {},
   "source": [
    "![alt text](./jupyter_images/image.png)"
   ]
  },
  {
   "cell_type": "code",
   "execution_count": null,
   "id": "ba86c923",
   "metadata": {},
   "outputs": [],
   "source": [
    "from sympy import false, true\n",
    "import torchvision\n",
    "from torch.utils.tensorboard import SummaryWriter"
   ]
  },
  {
   "cell_type": "code",
   "execution_count": 14,
   "id": "b1d2e676",
   "metadata": {},
   "outputs": [
    {
     "name": "stdout",
     "output_type": "stream",
     "text": [
      "Files already downloaded and verified\n",
      "Files already downloaded and verified\n"
     ]
    }
   ],
   "source": [
    "dataset_transform = torchvision.transforms.Compose([\n",
    "    torchvision.transforms.ToTensor()\n",
    "])\n",
    "# 下载torchvision官方提供的数据集 CIFAR10\n",
    "trian_set = torchvision.datasets.CIFAR10(root=\"./dataset/CIFAR10\",transform=dataset_transform, train=True,download=true)\n",
    "test_set = torchvision.datasets.CIFAR10(root=\"./dataset/CIFAR10\",transform=dataset_transform,  train=false,download=true)\n"
   ]
  },
  {
   "cell_type": "code",
   "execution_count": 15,
   "id": "68658962",
   "metadata": {},
   "outputs": [],
   "source": [
    "writer = SummaryWriter('logs')\n",
    "\n",
    "for i in range(10):\n",
    "    img,target = test_set[i]\n",
    "    writer.add_image('test_set', img, global_step=i)\n",
    "    \n",
    "writer.close()"
   ]
  },
  {
   "cell_type": "code",
   "execution_count": 3,
   "id": "f63910cb",
   "metadata": {},
   "outputs": [
    {
     "name": "stdout",
     "output_type": "stream",
     "text": [
      "(<PIL.Image.Image image mode=RGB size=32x32 at 0x7F32240E8550>, 3)\n",
      "['airplane', 'automobile', 'bird', 'cat', 'deer', 'dog', 'frog', 'horse', 'ship', 'truck']\n"
     ]
    }
   ],
   "source": [
    "print(test_set[0])\n",
    "print(test_set.classes)"
   ]
  },
  {
   "cell_type": "code",
   "execution_count": 16,
   "id": "28492083",
   "metadata": {},
   "outputs": [],
   "source": [
    "img, target = test_set[0]"
   ]
  },
  {
   "cell_type": "code",
   "execution_count": 11,
   "id": "b330ab79",
   "metadata": {},
   "outputs": [
    {
     "data": {
      "text/plain": [
       "torch.Tensor"
      ]
     },
     "execution_count": 11,
     "metadata": {},
     "output_type": "execute_result"
    }
   ],
   "source": [
    "type(img)"
   ]
  }
 ],
 "metadata": {
  "kernelspec": {
   "display_name": "DL",
   "language": "python",
   "name": "python3"
  },
  "language_info": {
   "codemirror_mode": {
    "name": "ipython",
    "version": 3
   },
   "file_extension": ".py",
   "mimetype": "text/x-python",
   "name": "python",
   "nbconvert_exporter": "python",
   "pygments_lexer": "ipython3",
   "version": "3.9.23"
  }
 },
 "nbformat": 4,
 "nbformat_minor": 5
}
