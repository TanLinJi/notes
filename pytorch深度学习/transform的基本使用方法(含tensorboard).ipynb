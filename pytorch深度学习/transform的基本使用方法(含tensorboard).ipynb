{
 "cells": [
  {
   "cell_type": "markdown",
   "id": "7546b419",
   "metadata": {},
   "source": [
    "### transform的使用"
   ]
  },
  {
   "cell_type": "code",
   "execution_count": 1,
   "id": "352d4504",
   "metadata": {},
   "outputs": [],
   "source": [
    "from torch.utils.tensorboard import SummaryWriter\n",
    "from PIL import Image"
   ]
  },
  {
   "cell_type": "markdown",
   "id": "0f90f2d9",
   "metadata": {},
   "source": [
    "学习 writer.add_image() 函数和 writer.add_scalar() 函数的使用"
   ]
  },
  {
   "cell_type": "markdown",
   "id": "4331f9b1",
   "metadata": {},
   "source": [
    "    def add_image(\n",
    "        self, tag, img_tensor, global_step=None, walltime=None, dataformats=\"CHW\"\n",
    "    ):\n",
    "        \"\"\"Add image data to summary.\n",
    "\n",
    "        Note that this requires the ``pillow`` package.\n",
    "\n",
    "        Args:\n",
    "            tag (str): Data identifier\n",
    "            img_tensor (torch.Tensor, numpy.ndarray, or string/blobname): Image data\n",
    "            global_step (int): Global step value to record\n",
    "            walltime (float): Optional override default walltime (time.time())\n",
    "              seconds after epoch of event\n",
    "            dataformats (str): Image data format specification of the form\n",
    "              CHW, HWC, HW, WH, etc."
   ]
  },
  {
   "cell_type": "code",
   "execution_count": 20,
   "id": "65ffa060",
   "metadata": {},
   "outputs": [
    {
     "data": {
      "text/plain": [
       "numpy.ndarray"
      ]
     },
     "execution_count": 20,
     "metadata": {},
     "output_type": "execute_result"
    }
   ],
   "source": [
    "writer = SummaryWriter(\"logs\")\n",
    "\n",
    "from PIL import Image\n",
    "import numpy as np\n",
    "\n",
    "image_path = '/root/autodl-tmp/pytorch_DeepLearning/dataset/cat-dog/train/dogs/dog.1.jpg'\n",
    "image = Image.open(image_path)\n",
    "type(image)\n",
    "\n",
    "image_array = np.array(image) # 因为 writer.add_image()函数需要的图片类型的要求，需要进行类型转换\n",
    "type(image_array)\n",
    "\n",
    "# writer.add_image('test',image_array,1)  # 直接这么写会报错"
   ]
  },
  {
   "cell_type": "code",
   "execution_count": null,
   "id": "703faa3a",
   "metadata": {},
   "outputs": [
    {
     "data": {
      "text/plain": [
       "(280, 300, 3)"
      ]
     },
     "execution_count": 18,
     "metadata": {},
     "output_type": "execute_result"
    }
   ],
   "source": [
    "image_array.shape  # 是 （H,W,C) 的格式，因此阅读 writer.add_image的源码，需要指定参数"
   ]
  },
  {
   "cell_type": "code",
   "execution_count": 22,
   "id": "68f233fd",
   "metadata": {},
   "outputs": [],
   "source": [
    "writer.add_image('test', image_array, 2, dataformats='HWC')"
   ]
  },
  {
   "cell_type": "code",
   "execution_count": null,
   "id": "7bb66677",
   "metadata": {},
   "outputs": [],
   "source": []
  },
  {
   "cell_type": "code",
   "execution_count": 23,
   "id": "9e63fa6a",
   "metadata": {},
   "outputs": [],
   "source": [
    "\n",
    "for i in range(100):\n",
    "    writer.add_scalar('y=2x', 3*i, i)\n",
    "\n",
    "writer.close()"
   ]
  },
  {
   "cell_type": "markdown",
   "id": "5fe5fe46",
   "metadata": {},
   "source": [
    "命令：tensorboard --logdir='/root/autodl-tmp/pytorch_DeepLearning/logs' --port=6018"
   ]
  },
  {
   "cell_type": "markdown",
   "id": "dd877a50",
   "metadata": {},
   "source": [
    "### transforms的结构及使用"
   ]
  },
  {
   "cell_type": "markdown",
   "id": "242184b2",
   "metadata": {},
   "source": [
    "transform.py 工具箱中常用的工具\n",
    "- totensor\n",
    "- resize"
   ]
  },
  {
   "cell_type": "markdown",
   "id": "402479e9",
   "metadata": {},
   "source": [
    "通过 trsansform.ToTensor 来解决两个问题：\n",
    "1. transform的具体使用方法\n",
    "2. tensor数据类型"
   ]
  },
  {
   "cell_type": "markdown",
   "id": "5f240102",
   "metadata": {},
   "source": [
    "创建具体的工具：tool = transforms.ToTensor()\n",
    "使用创建好的工具：\n",
    "-   输入是：input\n",
    "-   输出是：ouput = tool(input)"
   ]
  },
  {
   "cell_type": "code",
   "execution_count": null,
   "metadata": {},
   "outputs": [],
   "source": [
    "from torchvision import transforms\n",
    "\n",
    "writer = SummaryWriter('logs')\n",
    "\n",
    "img_path = '/root/autodl-tmp/pytorch_DeepLearning/dataset/cat-dog/train/dogs/dog.3.jpg'\n",
    "img_path = 'dataset/cat-dog/train/dogs/dog.3.jpg'\n",
    "img = Image.open(img_path)\n",
    "tensor_trans = transforms.ToTensor()\n",
    "tensor_img = tensor_trans(img) # 把img转换成tensor数据类型的img\n",
    "writer.add_image(\"Tensor_img\", tensor_img)\n",
    "writer.close()"
   ]
  },
  {
   "cell_type": "markdown",
   "id": "cb12843a",
   "metadata": {},
   "source": [
    "为什么要用tensor数据类型"
   ]
  },
  {
   "cell_type": "code",
   "execution_count": null,
   "id": "bf7ac8ec",
   "metadata": {},
   "outputs": [],
   "source": [
    "import cv2\n",
    "from torch.utils.tensorboard import SummaryWriter\n",
    "from torchvision import transforms\n",
    "\n",
    "img_path = 'dataset/cat-dog/train/dogs/dog.3.jpg'\n",
    "img = Image.open(img_path)\n",
    "\n",
    "Writer = SummaryWriter('log')\n",
    "\n",
    "cv_img = cv2.imread()"
   ]
  },
  {
   "cell_type": "markdown",
   "id": "63f9779b",
   "metadata": {},
   "source": [
    "#### 一些有用的transforms工具"
   ]
  },
  {
   "cell_type": "code",
   "execution_count": null,
   "id": "11eadecb",
   "metadata": {},
   "outputs": [],
   "source": [
    "import cv2\n",
    "from torch.utils.tensorboard import SummaryWriter\n",
    "from torchvision import transforms\n",
    "from PIL import Image\n",
    "\n",
    "img_path = 'dataset/cat-dog/train/dogs/dog.3.jpg'\n",
    "img = Image.open(img_path)"
   ]
  },
  {
   "cell_type": "markdown",
   "id": "c5fb6ca7",
   "metadata": {},
   "source": [
    "#### class Normalize(torch.nn.Module):\n"
   ]
  },
  {
   "cell_type": "code",
   "execution_count": 2,
   "id": "6a493788",
   "metadata": {},
   "outputs": [
    {
     "name": "stdout",
     "output_type": "stream",
     "text": [
      "tensor(0.8824)\n",
      "tensor(-0.0088)\n"
     ]
    }
   ],
   "source": [
    "import cv2\n",
    "from torch.utils.tensorboard import SummaryWriter\n",
    "from torchvision import transforms\n",
    "from PIL import Image\n",
    "\n",
    "writer = SummaryWriter('logs')\n",
    "img_path = 'dataset/cat-dog/train/dogs/dog.3.jpg'\n",
    "\n",
    "img = Image.open(img_path)\n",
    "\n",
    "# 1. tensor的使用\n",
    "trans_totensor = transforms.ToTensor()\n",
    "img_tensor = trans_totensor(img)\n",
    "writer.add_image(\"ToTensor\", img_tensor, global_step=1)\n",
    "\n",
    "\n",
    "# 2. normalize的使用(归一化)\n",
    "# 归一化的计算方式: output[channel] = (input[channel] - mean[channel]) / std[channel]\n",
    "print(img_tensor[0][0][0])\n",
    "trans_norms = transforms.Normalize([0.9,0.3,0.5],[2,2,2])\n",
    "img_norm = trans_norms(img_tensor)\n",
    "\n",
    "print(img_norm[0][0][0])\n",
    "\n",
    "writer.add_image(\"Normalize\", img_norm, global_step=2)\n",
    "writer.close()"
   ]
  },
  {
   "cell_type": "markdown",
   "id": "511692b0",
   "metadata": {},
   "source": [
    "#### class Resize(torch.nn.Module)"
   ]
  },
  {
   "cell_type": "code",
   "execution_count": 4,
   "id": "75460c3b",
   "metadata": {},
   "outputs": [
    {
     "name": "stdout",
     "output_type": "stream",
     "text": [
      "(499, 375)\n",
      "<PIL.Image.Image image mode=RGB size=512x512 at 0x7F827C068B20>\n"
     ]
    }
   ],
   "source": [
    "print(img.size)\n",
    "trans_resize = transforms.Resize((512,512))\n",
    "img_resize = trans_resize(img)\n",
    "print(img_resize)"
   ]
  },
  {
   "cell_type": "markdown",
   "id": "e42b899d",
   "metadata": {},
   "source": [
    "### 总结"
   ]
  },
  {
   "cell_type": "markdown",
   "id": "5d78932d",
   "metadata": {},
   "source": [
    "1. 需要关注 输入 和 输出 的数据类型\n",
    "2. 看官方文档\n",
    "3. 关注方法需要什么参数"
   ]
  },
  {
   "cell_type": "code",
   "execution_count": null,
   "id": "49ab0dfa",
   "metadata": {},
   "outputs": [],
   "source": [
    "import cv2\n",
    "from networkx import write_edgelist\n",
    "from torch import tensor\n",
    "from torch.utils.tensorboard import SummaryWriter\n",
    "from torchvision import transforms\n",
    "from PIL import Image\n",
    "\n",
    "writer = SummaryWriter('logs')\n",
    "img_path = 'dataset/cat-dog/train/dogs/dog.3.jpg'\n",
    "\n",
    "img = Image.open(img_path)\n",
    "\n",
    "# 1. tensor的使用\n",
    "trans_totensor = transforms.ToTensor()\n",
    "img_tensor = trans_totensor(img)\n",
    "writer.add_image(\"ToTensor\", img_tensor, global_step=1)\n",
    "\n",
    "\n",
    "# 2. normalize的使用(归一化)\n",
    "# 归一化的计算方式: output[channel] = (input[channel] - mean[channel]) / std[channel]\n",
    "print(img_tensor[0][0][0])\n",
    "trans_norms = transforms.Normalize([0.9,0.3,0.5],[2,2,2])\n",
    "img_norm = trans_norms(img_tensor)\n",
    "\n",
    "print(img_norm[0][0][0])\n",
    "\n",
    "writer.add_image(\"Normalize\", img_norm, global_step=2)\n",
    "\n",
    "# 3. Resize的使用\n",
    "print(img.size)\n",
    "trans_resize = transforms.Resize((512,512))\n",
    "img_resize = trans_resize(img)\n",
    "print(img_resize)\n",
    "img_resize = trans_totensor(img_resize)\n",
    "writer.add_image(\"img_resize\",img_resize,global_step=3)\n",
    "\n",
    "\n",
    "# 4. compose的使用\n",
    "trans_resize_2 = transforms.Resize(512)\n",
    "# PIL -> PIL -> tensor(一定要注意输入输出的数据类型)\n",
    "trans_compose = transforms.Compose([trans_resize_2, trans_totensor])\n",
    "img_resize_2 = trans_compose(img)\n",
    "writer.add_image(\"img_resize_2\",img_resize_2,global_step=4)\n",
    "\n",
    "\n",
    "# 5. class RandomCrop(torch.nn.Module)  随机裁剪的使用\n",
    "trans_random = transforms.RandomCrop((80,100))\n",
    "trans_compose_2 = transforms.Compose([trans_random, trans_totensor])\n",
    "for i in range(10):\n",
    "    img_crop = trans_compose_2(img)\n",
    "    writer.add_image(\"RandomCrop\", img_crop, i)\n",
    "\n",
    "writer.close()\n"
   ]
  }
 ],
 "metadata": {
  "kernelspec": {
   "display_name": "DL",
   "language": "python",
   "name": "python3"
  },
  "language_info": {
   "codemirror_mode": {
    "name": "ipython",
    "version": 3
   },
   "file_extension": ".py",
   "mimetype": "text/x-python",
   "name": "python",
   "nbconvert_exporter": "python",
   "pygments_lexer": "ipython3",
   "version": "3.9.23"
  }
 },
 "nbformat": 4,
 "nbformat_minor": 5
}
