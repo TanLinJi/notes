{
 "cells": [
  {
   "cell_type": "markdown",
   "id": "b1678aa4",
   "metadata": {},
   "source": [
    "官方说明文档：\n",
    "> https://docs.pytorch.org/docs/stable/data.html#torch.utils.data.DataLoader"
   ]
  },
  {
   "cell_type": "code",
   "execution_count": null,
   "id": "9b9bd922",
   "metadata": {},
   "outputs": [],
   "source": [
    "class torch.utils.data.DataLoader(\n",
    "    dataset, \n",
    "    batch_size=1, \n",
    "    shuffle=None, \n",
    "    sampler=None, \n",
    "    batch_sampler=None, \n",
    "    num_workers=0, # 采用一个主进程或者多个进程进行处理\n",
    "    collate_fn=None, \n",
    "    pin_memory=False, \n",
    "    drop_last=False, \n",
    "    timeout=0, \n",
    "    worker_init_fn=None, \n",
    "    multiprocessing_context=None, \n",
    "    generator=None, *, \n",
    "    prefetch_factor=None, \n",
    "    persistent_workers=False, \n",
    "    pin_memory_device='', \n",
    "    in_order=True\n",
    ")"
   ]
  },
  {
   "cell_type": "code",
   "execution_count": 1,
   "id": "1471ca9c",
   "metadata": {},
   "outputs": [],
   "source": [
    "# 1. 准备数据集---使用pytorch官方提供的数据集\n",
    "import torchvision\n",
    "\n",
    "# 准备的测试数据集\n",
    "test_data = torchvision.datasets.CIFAR10(\"./dataset/CIFAR10\", train=False, transform=torchvision.transforms.ToTensor())"
   ]
  },
  {
   "cell_type": "code",
   "execution_count": 18,
   "id": "974d10de",
   "metadata": {},
   "outputs": [
    {
     "name": "stdout",
     "output_type": "stream",
     "text": [
      "torch.Size([3, 32, 32])\n",
      "3\n"
     ]
    }
   ],
   "source": [
    "# 2. 加载数据集\n",
    "from torch.utils.data import DataLoader\n",
    "\n",
    "test_loader = DataLoader(dataset=test_data, batch_size=64, shuffle=True,  num_workers=2, drop_last=True)\n",
    "\n",
    "# 测试数据集中的第一张图及其target（标签）\n",
    "img, target = test_data[0]\n",
    "print(img.shape)\n",
    "print(target)\n",
    "\n",
    "# 在 CIFAR10 数据集中，target 是一个从 0 到 9 的整数，\n",
    "# 分别代表 \"airplane\", \"automobile\", \"bird\", \"cat\", \"deer\", \"dog\", \"frog\", \"horse\", \"ship\", \"truck\" 这 10 个类别中的一个。"
   ]
  },
  {
   "cell_type": "code",
   "execution_count": null,
   "id": "7a51c44f",
   "metadata": {},
   "outputs": [],
   "source": [
    "# 3. 显示数据集\n",
    "from torch.utils.tensorboard import SummaryWriter\n",
    "writer = SummaryWriter(\"dataloader_logs\")\n",
    "step = 0\n",
    "for data in test_loader:\n",
    "    imgs, targets = data\n",
    "    # print(imgs.shape)\n",
    "    # print(targets)\n",
    "    writer.add_images(\"test_data_droplist=True\", imgs, step)\n",
    "    step = step + 1\n",
    "\n",
    "writer.close()"
   ]
  },
  {
   "cell_type": "code",
   "execution_count": 19,
   "id": "ce5a4dae",
   "metadata": {},
   "outputs": [],
   "source": [
    "# 3. 显示数据集 shuffle使用\n",
    "from torch.utils.tensorboard import SummaryWriter\n",
    "writer = SummaryWriter(\"dataloader_logs\")\n",
    "\n",
    "for epoch in range(2):\n",
    "    step = 0\n",
    "    for data in test_loader:  # 这个循环就是抓取一轮数据（shuffle的意思就是，第二轮抓取的数据是否和第一轮完全一致）\n",
    "        imgs, targets = data\n",
    "        # print(imgs.shape)\n",
    "        # print(targets)\n",
    "        # writer.add_images(\"Epoch:{}_shuffle=False\".format(epoch), imgs, step) # 两轮的结果完全相同\n",
    "        writer.add_images(\"Epoch:{}_shuffle=True\".format(epoch), imgs, step) # 两轮的结果不同\n",
    "        step = step + 1\n",
    "\n",
    "writer.close()"
   ]
  },
  {
   "cell_type": "code",
   "execution_count": null,
   "id": "1b51c220",
   "metadata": {},
   "outputs": [],
   "source": [
    "for epoch in range(2):\n",
    "    step = 0\n",
    "    for data in test_loader:  \n",
    "        imgs, targets = data  # 一般就是这么使用，直接把imgs输入到神经网络中\n",
    "\n",
    "        writer.add_images(\"Epoch:{}_shuffle=True\".format(epoch), imgs, step) \n",
    "        step = step + 1"
   ]
  }
 ],
 "metadata": {
  "kernelspec": {
   "display_name": "DL",
   "language": "python",
   "name": "python3"
  },
  "language_info": {
   "codemirror_mode": {
    "name": "ipython",
    "version": 3
   },
   "file_extension": ".py",
   "mimetype": "text/x-python",
   "name": "python",
   "nbconvert_exporter": "python",
   "pygments_lexer": "ipython3",
   "version": "3.9.23"
  }
 },
 "nbformat": 4,
 "nbformat_minor": 5
}
