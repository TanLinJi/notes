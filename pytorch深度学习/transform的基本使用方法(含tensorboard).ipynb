{
 "cells": [
  {
   "cell_type": "code",
   "execution_count": 2,
   "id": "6f90880a",
   "metadata": {},
   "outputs": [],
   "source": [
    "import cv2\n",
    "from networkx import write_edgelist\n",
    "from torch import tensor\n",
    "from torch.utils.tensorboard import SummaryWriter\n",
    "from torchvision import transforms\n",
    "from PIL import Image"
   ]
  },
  {
   "cell_type": "code",
   "execution_count": 3,
   "id": "01f88f37",
   "metadata": {},
   "outputs": [],
   "source": [
    "img_path = 'dataset/cat-dog/train/dogs/dog.3.jpg'\n",
    "img = Image.open(img_path)  # img是PIL.Image.Image（PIL）格式的"
   ]
  },
  {
   "cell_type": "markdown",
   "id": "bb0f89b4",
   "metadata": {},
   "source": [
    "### 1. tensor的基本使用"
   ]
  },
  {
   "cell_type": "code",
   "execution_count": 4,
   "id": "6c1604e5",
   "metadata": {},
   "outputs": [],
   "source": [
    "trans_totensor = transforms.ToTensor()\n",
    "img_tensor = trans_totensor(img) # img：PIL -> tensor    将PIL格式的img 转换成 tensor格式的img\n",
    "\n",
    "writer = SummaryWriter('logs')  # 这是用于可视化的tensorborard设置, SummaryWriter会根据当前工作目录来查找或创建 logs 文件夹（如果不存在）\n",
    "writer.add_image(\"ToTensor\", img_tensor, global_step=1)\n",
    "writer.close()  # 最后使用完成一定要关闭"
   ]
  },
  {
   "cell_type": "raw",
   "id": "410f9fe4",
   "metadata": {
    "vscode": {
     "languageId": "raw"
    }
   },
   "source": [
    "tensorboard --logdir=logs --port=6018   # 使用这条命令来打开tensorboard,也可以显示的指定logs的路径 logdir='/root/autodl-tmp/pytorch_DeepLearning/logs'"
   ]
  },
  {
   "cell_type": "markdown",
   "id": "51b6da4b",
   "metadata": {},
   "source": [
    "### 2. normalize的使用(归一化)"
   ]
  },
  {
   "cell_type": "markdown",
   "id": "bf608445",
   "metadata": {},
   "source": [
    "- 对输入的图像张量的每个通道(channel)应用以下公式  \n",
    "    `output[channel] = (input[channel] - mean[channel]) / std[channel]`\n",
    "- Normalize 的核心作用是对图像张量（Tensor）进行归一化。\n",
    "- 归一化是一种将数据按比例缩放，使其落入一个小的特定区间的过程。在深度学习中，这通常意味着将输入数据调整为均值为 0，标准差为 1 的分布。(标准正态)\n",
    "- 为什么需要归一化？\n",
    "    - 加速模型收敛：归一化后的数据可以帮助梯度下降算法更快地找到最优解。如果不同特征（在图像中就是不同的颜色通道）的数值范围差异很大，可能会导致训练过程变慢或不稳定。\n",
    "    - 提高模型泛化能力：通过将数据转换到同一尺度，可以防止模型过于依赖某些数值范围较大的特征。"
   ]
  },
  {
   "cell_type": "code",
   "execution_count": null,
   "id": "9406a79c",
   "metadata": {},
   "outputs": [],
   "source": [
    "trans_norms = transforms.ToTensor()\n",
    "writer = SummaryWriter('logs')\n",
    "\n",
    "print(img_tensor[0][0][0])\n",
    "\n",
    "trans_norms = transforms.Normalize([0.9,0.3,0.5],[2,2,2])\n",
    "img_norm = trans_norms(img_tensor)\n",
    "\n",
    "print(img_norm[0][0][0])\n",
    "\n",
    "writer.add_image(\"Normalize\", img_norm, global_step=2)\n",
    "\n",
    "writer.close()"
   ]
  },
  {
   "cell_type": "markdown",
   "id": "d6a1cd37",
   "metadata": {},
   "source": [
    "### 3. Resize的使用"
   ]
  },
  {
   "cell_type": "code",
   "execution_count": 14,
   "id": "14c343f1",
   "metadata": {},
   "outputs": [
    {
     "name": "stdout",
     "output_type": "stream",
     "text": [
      "(448, 258)\n",
      "(400, 200) <class 'PIL.Image.Image'>\n"
     ]
    }
   ],
   "source": [
    "from PIL import Image\n",
    "from torchvision import transforms\n",
    "from torch.utils.tensorboard import SummaryWriter\n",
    "\n",
    "writer = SummaryWriter('logs')\n",
    "\n",
    "img_path = \"/root/autodl-tmp/pytorch_DeepLearning/dataset/cat-dog/train/cats/cat.16.jpg\"\n",
    "img = Image.open(img_path) # PIL\n",
    "\n",
    "print(img.size)\n",
    "\n",
    "trans_resize = transforms.Resize((200,400)) # 这里的宽和高 ，和img_size的宽和高是反的\n",
    "img_resize = trans_resize(img) # PIL\n",
    "\n",
    "print(img_resize.size, type(img_resize))\n",
    "\n",
    "trans_totensor = transforms.ToTensor()\n",
    "img_resize_tensor = trans_totensor(img_resize)\n",
    "\n",
    "writer.add_image('Image_resize', img_resize_tensor, global_step=0)\n",
    "\n",
    "writer.close()\n"
   ]
  },
  {
   "cell_type": "markdown",
   "id": "35a277a8",
   "metadata": {},
   "source": [
    "### 4. Compose的使用"
   ]
  },
  {
   "cell_type": "code",
   "execution_count": null,
   "id": "256560b0",
   "metadata": {},
   "outputs": [
    {
     "name": "stdout",
     "output_type": "stream",
     "text": [
      "<class 'torch.Tensor'>\n"
     ]
    }
   ],
   "source": [
    "writer = SummaryWriter('logs')\n",
    "\n",
    "trans_compose = transforms.Compose([\n",
    "    transforms.Resize(256),              # 步骤1: 调整图像大小到 256x256\n",
    "    transforms.CenterCrop(224),          # 步骤2: 从中心裁剪出 224x224 的区域\n",
    "    transforms.ToTensor(),               # 步骤3: 将图像转换为 Tensor\n",
    "    transforms.Normalize(                # 步骤4: 对 Tensor 进行归一化\n",
    "        mean=[0.485, 0.456, 0.406], \n",
    "        std=[0.229, 0.224, 0.225]\n",
    "    )\n",
    "])\n",
    "img_compose = trans_compose(img) # PIL->tensor\n",
    "print(type(img_compose))\n",
    "writer.add_image('Image_Compose',img_compose, global_step=1)\n",
    "writer.close()\n",
    "\n",
    "# # 4. compose的使用\n",
    "# trans_resize_2 = transforms.Resize(512)\n",
    "# # PIL -> PIL -> tensor(一定要注意输入输出的数据类型)\n",
    "# trans_compose = transforms.Compose([trans_resize_2, trans_totensor])\n",
    "# img_resize_2 = trans_compose(img)\n",
    "# writer.add_image(\"img_resize_2\",img_resize_2,global_step=4)"
   ]
  },
  {
   "cell_type": "markdown",
   "id": "476fca2e",
   "metadata": {},
   "source": [
    "### 5. RandomCrop的使用"
   ]
  },
  {
   "cell_type": "code",
   "execution_count": 25,
   "id": "814fa622",
   "metadata": {},
   "outputs": [],
   "source": [
    "writer = SummaryWriter('logs')\n",
    "\n",
    "trans_random = transforms.RandomCrop((80,100))\n",
    "trans_totensor = transforms.ToTensor()\n",
    "trans_compose_2 = transforms.Compose([trans_random, trans_totensor])\n",
    "for i in range(10):\n",
    "    img_crop = trans_compose_2(img)\n",
    "    writer.add_image(\"RandomCrop\", img_crop, i)\n",
    "\n",
    "writer.close()"
   ]
  }
 ],
 "metadata": {
  "kernelspec": {
   "display_name": "DL",
   "language": "python",
   "name": "python3"
  },
  "language_info": {
   "codemirror_mode": {
    "name": "ipython",
    "version": 3
   },
   "file_extension": ".py",
   "mimetype": "text/x-python",
   "name": "python",
   "nbconvert_exporter": "python",
   "pygments_lexer": "ipython3",
   "version": "3.9.23"
  }
 },
 "nbformat": 4,
 "nbformat_minor": 5
}
